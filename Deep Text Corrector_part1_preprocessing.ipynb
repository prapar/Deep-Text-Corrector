{
 "cells": [
  {
   "cell_type": "code",
   "execution_count": null,
   "metadata": {
    "id": "CEzQ2FenMG-e"
   },
   "outputs": [],
   "source": [
    "import numpy as np\n",
    "import pandas as pd\n",
    "import matplotlib.pyplot as plt\n",
    "import seaborn as sns\n",
    "import os\n",
    "import re\n",
    "import warnings\n",
    "from bs4 import BeautifulSoup\n",
    "from google.colab import drive\n",
    "from tqdm import tqdm\n",
    "import random\n",
    "warnings.filterwarnings('ignore')\n",
    "pd.set_option('display.max_columns', None)"
   ]
  },
  {
   "cell_type": "code",
   "execution_count": null,
   "metadata": {
    "colab": {
     "base_uri": "https://localhost:8080/"
    },
    "id": "QurzPGi5fFav",
    "outputId": "e8c8b824-f7f0-4bfb-83da-c22b254c3a75"
   },
   "outputs": [
    {
     "name": "stdout",
     "output_type": "stream",
     "text": [
      "Mounted at /content/gdrive\n",
      "/content\n"
     ]
    }
   ],
   "source": [
    "MOUNTPOINT = '/content/gdrive'\n",
    "DATADIR = os.path.join(MOUNTPOINT, 'My Drive', 'casestudy')\n",
    "drive.mount(MOUNTPOINT)\n",
    "dirPath = os.getcwd()\n",
    "print(dirPath)"
   ]
  },
  {
   "cell_type": "markdown",
   "metadata": {
    "id": "ellQeU2MfU3N"
   },
   "source": [
    "### Data Loading"
   ]
  },
  {
   "cell_type": "markdown",
   "metadata": {
    "id": "kD7YhwunfPS-"
   },
   "source": [
    "We will load the data from the 2 novels:\n",
    "1. BOLO The Cave Boy\n",
    "2. The Shoemaker"
   ]
  },
  {
   "cell_type": "code",
   "execution_count": null,
   "metadata": {
    "colab": {
     "base_uri": "https://localhost:8080/"
    },
    "id": "6a0exGWKfMJN",
    "outputId": "f534b3cf-7128-4c14-825f-95477ecaa302"
   },
   "outputs": [
    {
     "name": "stdout",
     "output_type": "stream",
     "text": [
      "50761\n",
      "﻿Bolo the Cave Boy\n",
      "\n",
      "\n",
      "\n",
      "\n",
      "CHAPTER I How Bolo Got His Dinner\n",
      "\n",
      "\n",
      "Bolo crept carefully through the tall grass. With one brown hand he\n",
      "parted the stalks before him, and in the other he carried a noose made\n",
      "from a slender willow withe. His bright, black eyes peered cautiously\n",
      "about at every step.\n",
      "\n",
      "Some distance ahead of him a small gray rabbit was hopping slowly\n",
      "along, stopping here and there to take a nibble of tender, young grass,\n",
      "or to stand up on his hind legs and look about him. Bolo was hungry and\n",
      "he thought a little rabbit would make him a good dinner.\n",
      "\n",
      "Closer and closer he crept. He raised the noose for a throw. Then all\n",
      "at once the little animal pricked up his long ears, gave one startled\n",
      "look ahead and plunged off into the thick grass.\n",
      "\n",
      "At the same moment a boy about as large as Bolo broke through the grass\n",
      "just beyond where the rabbit had stood. He did not see the rabbit. All\n",
      "he saw was Bolo standing with arm upraised and an angry frown on his\n",
      "dark face.\n",
      "\n",
      "Bolo struck at the boy with \n",
      "said One Eye. “I am growing old and the\n",
      "Clan must never again be without a lawmaker. And the man who is to make\n",
      "the laws must be fearless and wise and good.”\n",
      "\n",
      "It was long after that, however, before Bolo took his place at the head\n",
      "of the Clan. For One Eye lived to an old age, and became wiser and more\n",
      "just with every year.\n",
      "\n",
      "Little Antelope grew up as pretty and graceful as the beautiful animal\n",
      "whose name she bore. When the young Chief of another Clan, living in a\n",
      "valley far across the hills, saw her as she sat sewing skins beside her\n",
      "mother, and called to her to follow him, she did so gladly, for he was\n",
      "tall and brave and handsome.\n",
      "\n",
      "There was another pretty maiden, too, whom Bolo thought the loveliest\n",
      "he had ever seen. So, one day he found a new cave, where no one had\n",
      "ever lived, and made it ready for his own home.\n",
      "\n",
      "But how he won the maiden, and what brave deeds he did in his long\n",
      "after years cannot be told here. That, too, is another story.\n",
      "\n",
      "       *       *       *       *       *\n",
      "\n",
      "\n"
     ]
    }
   ],
   "source": [
    "file = open(dirPath+'/gdrive/My Drive/casestudy/pg69405.txt', 'r')\n",
    "novel1 = str(file.read())\n",
    "print(len(novel1))\n",
    "print(novel1[:1000])\n",
    "print(novel1[-1000:])"
   ]
  },
  {
   "cell_type": "code",
   "execution_count": null,
   "metadata": {
    "colab": {
     "base_uri": "https://localhost:8080/"
    },
    "id": "uJepAfM9fMMk",
    "outputId": "50f4c4ee-79ee-489a-84db-2d9712812aab"
   },
   "outputs": [
    {
     "name": "stdout",
     "output_type": "stream",
     "text": [
      "200364\n",
      "﻿THE SHOEMAKER\n",
      "\n",
      "\n",
      "\n",
      "\n",
      "PROLOGUE.\n",
      "\n",
      "\n",
      "In one of the small side streets that end in the Bowery, on the East\n",
      "Side, is a row of small and dilapidated buildings, which once, in the\n",
      "early days of New York, were the dwellings of fashionable people, but\n",
      "which are now occupied by poor but industrious people. The majority\n",
      "of these houses have some small business carried on in the basement\n",
      "cellars.\n",
      "\n",
      "The people who occupy the houses above the cellar stores or workshops\n",
      "are mostly of the poor but industrious Hebrews who toil early and late\n",
      "to build up a little business in this land of freedom, a business which\n",
      "is really and truly their own, to have and to hold without persecution\n",
      "or robbery.\n",
      "\n",
      "The house where Morris Goldberg had found a shelter and a chance\n",
      "to show of what stuff he was made was, if possible, a little more\n",
      "disreputable in appearance than the others in that row, but to him, who\n",
      "had gone through the horrors of the Kishineff massacre, robbed of his\n",
      "all, save his wife and little daughter, it s\n",
      "ht than John had, but then he did not know quite so\n",
      "well the meaning of the deep silence that had fallen upon them all.\n",
      "\n",
      "“Dora! Dora!” called the distracted father, when there ran into his\n",
      "arms what he had supposed was an Indian girl.\n",
      "\n",
      "“Papa, papa! and Bennie, too. Oh, how glad I am! I don’t know how it\n",
      "all happened, but we are together now.”\n",
      "\n",
      "Shoshone made a motion to Goldberg to take them away, and, leading Dora\n",
      "by one hand and Bennie by the other, they started to the tent.\n",
      "\n",
      "Helen sank down to the box, incapable of movement. She knew what the\n",
      "sudden silence meant and saw Dan take his lariat. She covered her face\n",
      "with her hands and sat there for what she thought a year. Then she felt\n",
      "her hand taken, and looked up to see Shoshone standing there and in his\n",
      "grave face she read the truth. Swift justice had been meted out to the\n",
      "murderers for their crimes!\n",
      "\n",
      "Helen was free; no, not quite free, for she was now held close in\n",
      "Shoshone’s arms.\n",
      "\n",
      "THE END.\n",
      "\n",
      "       *       *       *       *       *\n"
     ]
    }
   ],
   "source": [
    "file = open(dirPath+'/gdrive/My Drive/casestudy/pg69408.txt', 'r')\n",
    "novel2 = str(file.read())\n",
    "print(len(novel2))\n",
    "print(novel2[:1000])\n",
    "print(novel2[-1000:])"
   ]
  },
  {
   "cell_type": "code",
   "execution_count": null,
   "metadata": {
    "colab": {
     "base_uri": "https://localhost:8080/"
    },
    "id": "Tf0QEiaofMSs",
    "outputId": "29def5bf-56f8-458e-d5ce-f29fa1ae9c20"
   },
   "outputs": [
    {
     "name": "stdout",
     "output_type": "stream",
     "text": [
      "251125\n",
      "﻿Bolo the Cave Boy\n",
      "\n",
      "\n",
      "\n",
      "\n",
      "CHAPTER I How Bolo Got His Dinner\n",
      "\n",
      "\n",
      "Bolo crept carefully through the tall grass. With one brown hand he\n",
      "parted the stalks before him, and in the other he carried a noose made\n",
      "from a slender willow withe. His bright, black eyes peered cautiously\n",
      "about at every step.\n",
      "\n",
      "Some distance ahead of him a small gray rabbit was hopping slowly\n",
      "along, stopping here and there to take a nibble of tender, young grass,\n",
      "or to stand up on his hind legs and look about him. Bolo was hungry and\n",
      "he thought a little rabbit would make him a good dinner.\n",
      "\n",
      "Closer and closer he crept. He raised the noose for a throw. Then all\n",
      "at once the little animal pricked up his long ears, gave one startled\n",
      "look ahead and plunged off into the thick grass.\n",
      "\n",
      "At the same moment a boy about as large as Bolo broke through the grass\n",
      "just beyond where the rabbit had stood. He did not see the rabbit. All\n",
      "he saw was Bolo standing with arm upraised and an angry frown on his\n",
      "dark face.\n",
      "\n",
      "Bolo struck at the boy with \n",
      "ht than John had, but then he did not know quite so\n",
      "well the meaning of the deep silence that had fallen upon them all.\n",
      "\n",
      "“Dora! Dora!” called the distracted father, when there ran into his\n",
      "arms what he had supposed was an Indian girl.\n",
      "\n",
      "“Papa, papa! and Bennie, too. Oh, how glad I am! I don’t know how it\n",
      "all happened, but we are together now.”\n",
      "\n",
      "Shoshone made a motion to Goldberg to take them away, and, leading Dora\n",
      "by one hand and Bennie by the other, they started to the tent.\n",
      "\n",
      "Helen sank down to the box, incapable of movement. She knew what the\n",
      "sudden silence meant and saw Dan take his lariat. She covered her face\n",
      "with her hands and sat there for what she thought a year. Then she felt\n",
      "her hand taken, and looked up to see Shoshone standing there and in his\n",
      "grave face she read the truth. Swift justice had been meted out to the\n",
      "murderers for their crimes!\n",
      "\n",
      "Helen was free; no, not quite free, for she was now held close in\n",
      "Shoshone’s arms.\n",
      "\n",
      "THE END.\n",
      "\n",
      "       *       *       *       *       *\n"
     ]
    }
   ],
   "source": [
    "# Concatenate the two novels.\n",
    "novel = novel1+novel2\n",
    "print(len(novel))\n",
    "print(novel[:1000])\n",
    "print(novel[-1000:])"
   ]
  },
  {
   "cell_type": "markdown",
   "metadata": {
    "id": "1qkBpKB1h68h"
   },
   "source": [
    "###Data Pre-processing"
   ]
  },
  {
   "cell_type": "markdown",
   "metadata": {
    "id": "OKQ6aMfr_B90"
   },
   "source": [
    "####1. Novels"
   ]
  },
  {
   "cell_type": "markdown",
   "metadata": {
    "id": "HsXbMOd9iESj"
   },
   "source": [
    "Let us verify the unicode characters in the novel text."
   ]
  },
  {
   "cell_type": "code",
   "execution_count": null,
   "metadata": {
    "colab": {
     "base_uri": "https://localhost:8080/",
     "height": 35
    },
    "id": "xvetPXCbhuG3",
    "outputId": "5ad85814-0265-4f77-8ecf-742bea5b19a2"
   },
   "outputs": [
    {
     "data": {
      "application/vnd.google.colaboratory.intrinsic+json": {
       "type": "string"
      },
      "text/plain": [
       "\"inv = set()\\ninv = set(re.findall(r'\\\\x.{10}', novel))\\nprint(inv)\""
      ]
     },
     "execution_count": 6,
     "metadata": {},
     "output_type": "execute_result"
    }
   ],
   "source": [
    "'''inv = set()\n",
    "inv = set(re.findall(r'\\\\x.{10}', novel))\n",
    "print(inv)'''"
   ]
  },
  {
   "cell_type": "markdown",
   "metadata": {
    "id": "e-kbJbamigVP"
   },
   "source": [
    "We can see that these are Unicode representation of certain special characters. Let us replace these with the appropriate special characters."
   ]
  },
  {
   "cell_type": "code",
   "execution_count": null,
   "metadata": {
    "colab": {
     "base_uri": "https://localhost:8080/",
     "height": 70
    },
    "id": "yhipJeeFmBBb",
    "outputId": "a9aad3cb-1a8b-42a7-8ef1-e8a83cd7b40b"
   },
   "outputs": [
    {
     "data": {
      "application/vnd.google.colaboratory.intrinsic+json": {
       "type": "string"
      },
      "text/plain": [
       "'def unitoascii(text):  \\n  text = text.replace(\\'\\\\xe2\\\\x80\\\\x9c\\', \\'\"\\')\\n  text = text.replace(\\'\\\\xe2\\\\x80\\\\x9d\\', \\'\"\\')\\n  text = text.replace(\\'\\\\xe2\\\\x80\\\\x98\\', \"\\'\")\\n  text = text.replace(\\'\\\\xe2\\\\x80\\\\x99\\', \"\\'\")\\n\\n  # remove Unicode BOM(Byte Order Mark)\\n  text = text.replace(\\'\\'b\\'\\\\xef\\\\xbb\\\\xbf\\', \"\")\\n  text = text.replace(\\'b\\'\\\\xef\\\\xbb\\\\xbf\\', \"\")\\n\\n  return text'"
      ]
     },
     "execution_count": 7,
     "metadata": {},
     "output_type": "execute_result"
    }
   ],
   "source": [
    "'''def unitoascii(text):  \n",
    "  text = text.replace('\\\\xe2\\\\x80\\\\x9c', '\"')\n",
    "  text = text.replace('\\\\xe2\\\\x80\\\\x9d', '\"')\n",
    "  text = text.replace('\\\\xe2\\\\x80\\\\x98', \"'\")\n",
    "  text = text.replace('\\\\xe2\\\\x80\\\\x99', \"'\")\n",
    "\n",
    "  # remove Unicode BOM(Byte Order Mark)\n",
    "  text = text.replace('\\'b\\'\\\\xef\\\\xbb\\\\xbf', \"\")\n",
    "  text = text.replace('b\\'\\\\xef\\\\xbb\\\\xbf', \"\")\n",
    "\n",
    "  return text'''"
   ]
  },
  {
   "cell_type": "code",
   "execution_count": null,
   "metadata": {
    "colab": {
     "base_uri": "https://localhost:8080/",
     "height": 35
    },
    "id": "cNfeKszCiXtj",
    "outputId": "a06d371e-de4b-42c8-9b3c-52c4ae998dbd"
   },
   "outputs": [
    {
     "data": {
      "application/vnd.google.colaboratory.intrinsic+json": {
       "type": "string"
      },
      "text/plain": [
       "'novel = unitoascii(novel)'"
      ]
     },
     "execution_count": 8,
     "metadata": {},
     "output_type": "execute_result"
    }
   ],
   "source": [
    "#https://gist.github.com/tushortz/9fbde5d023c0a0204333267840b592f9\n",
    "'''novel = unitoascii(novel)'''"
   ]
  },
  {
   "cell_type": "code",
   "execution_count": null,
   "metadata": {
    "colab": {
     "base_uri": "https://localhost:8080/",
     "height": 35
    },
    "id": "0eOMN85TkUJL",
    "outputId": "a1632151-3add-4f27-e4bc-d07d649b15d6"
   },
   "outputs": [
    {
     "data": {
      "application/vnd.google.colaboratory.intrinsic+json": {
       "type": "string"
      },
      "text/plain": [
       "'print(len(novel))\\nprint(novel[:1000])\\nprint(novel[-1000:])'"
      ]
     },
     "execution_count": 9,
     "metadata": {},
     "output_type": "execute_result"
    }
   ],
   "source": [
    "'''print(len(novel))\n",
    "print(novel[:1000])\n",
    "print(novel[-1000:])'''"
   ]
  },
  {
   "cell_type": "code",
   "execution_count": null,
   "metadata": {
    "colab": {
     "base_uri": "https://localhost:8080/",
     "height": 35
    },
    "id": "7h5RrnWjktv1",
    "outputId": "09a46cdd-198b-42df-8dba-58af11d6307a"
   },
   "outputs": [
    {
     "data": {
      "application/vnd.google.colaboratory.intrinsic+json": {
       "type": "string"
      },
      "text/plain": [
       "\"inv = set()\\ninv = set(re.findall(r'\\\\x.{10}', novel))\\nprint(inv)\""
      ]
     },
     "execution_count": 10,
     "metadata": {},
     "output_type": "execute_result"
    }
   ],
   "source": [
    "'''inv = set()\n",
    "inv = set(re.findall(r'\\\\x.{10}', novel))\n",
    "print(inv)'''"
   ]
  },
  {
   "cell_type": "markdown",
   "metadata": {
    "id": "3RLOwRqSsKXS"
   },
   "source": [
    "Firstly let us find all the special characters in the novel text and its relevance to our problem."
   ]
  },
  {
   "cell_type": "code",
   "execution_count": null,
   "metadata": {
    "colab": {
     "base_uri": "https://localhost:8080/"
    },
    "id": "QXyBfUnWsJaS",
    "outputId": "ed4d8477-d4f7-4d3d-c045-434242ec1367"
   },
   "outputs": [
    {
     "name": "stdout",
     "output_type": "stream",
     "text": [
      "{'(', '-', ':', '’', '!', '&', '\\ufeff', '[', '”', '_', '*', '?', '.', ';', ']', ',', ')', '“', '‘'}\n"
     ]
    }
   ],
   "source": [
    "print(set(re.findall(r'[^a-zA-Z0-9\\s]',novel)))"
   ]
  },
  {
   "cell_type": "markdown",
   "metadata": {
    "id": "Z6o_Cw55t9_X"
   },
   "source": [
    "Based on analysis of the above special characters - the below cleanup is done."
   ]
  },
  {
   "cell_type": "code",
   "execution_count": null,
   "metadata": {
    "id": "Wz2G52IvuEov"
   },
   "outputs": [],
   "source": [
    "novel = re.sub('_',' ',novel)\n",
    "novel = novel.replace('[Illustration','')\n",
    "novel = re.sub(r'\\“|\\”|\\\"','',novel)\n",
    "novel = re.sub(r'--','-',novel)\n",
    "novel = re.sub(']','',novel)\n",
    "novel = re.sub('\\*','',novel)\n",
    "novel = novel.replace('(. : . : .)','')\n",
    "novel = novel.replace('\\ufeff','')\n",
    "novel = re.sub('\\\\r|\\\\n|\\\\t|\\\\r\\\\n', ' ',novel) # Remove extra new lines/tabs\n",
    "novel = re.sub(r'Mrs\\.','Mrs ',novel) # Remove fullstops from personal titles\n",
    "novel = re.sub(r'Mr\\.','Mr ',novel)\n",
    "novel = re.sub(r'Ms\\.','Ms ',novel)\n",
    "novel = re.sub(r'Dr\\.','Dr ',novel)\n",
    "# We will split the text with '.', '?', '!'. We will also retain the above 3 punctuations.\n",
    "novel = re.sub(r'\\.', '<>.', novel)  \n",
    "novel = re.sub(r'\\?', '?.', novel) \n",
    "novel = re.sub(r'\\!', '!.', novel)\n",
    "novel = re.sub(' +', ' ', novel) # Remove extra spaces "
   ]
  },
  {
   "cell_type": "code",
   "execution_count": null,
   "metadata": {
    "colab": {
     "base_uri": "https://localhost:8080/"
    },
    "id": "qAA_KDtcvYA0",
    "outputId": "b2a9361a-f7bf-4ba7-b867-59852d76205a"
   },
   "outputs": [
    {
     "name": "stdout",
     "output_type": "stream",
     "text": [
      "{'-', '&', '<', '?', '!', '.', '>', ':', ';', '’', '‘', ','}\n"
     ]
    }
   ],
   "source": [
    "print(set(re.findall(r'[^a-zA-Z0-9\\s]',novel)))"
   ]
  },
  {
   "cell_type": "code",
   "execution_count": null,
   "metadata": {
    "colab": {
     "base_uri": "https://localhost:8080/"
    },
    "id": "OT41e2yBrRqD",
    "outputId": "1e2cc8ea-c0b6-4585-fcca-e2ba3703aae1"
   },
   "outputs": [
    {
     "name": "stdout",
     "output_type": "stream",
     "text": [
      "252965\n",
      "Bolo the Cave Boy CHAPTER I How Bolo Got His Dinner Bolo crept carefully through the tall grass<>. With one brown hand he parted the stalks before him, and in the other he carried a noose made from a slender willow withe<>. His bright, black eyes peered cautiously about at every step<>. Some distance ahead of him a small gray rabbit was hopping slowly along, stopping here and there to take a nibble of tender, young grass, or to stand up on his hind legs and look about him<>. Bolo was hungry and he thought a little rabbit would make him a good dinner<>. Closer and closer he crept<>. He raised the noose for a throw<>. Then all at once the little animal pricked up his long ears, gave one startled look ahead and plunged off into the thick grass<>. At the same moment a boy about as large as Bolo broke through the grass just beyond where the rabbit had stood<>. He did not see the rabbit<>. All he saw was Bolo standing with arm upraised and an angry frown on his dark face<>. Bolo struck at th\n",
      "pey, who showed more fight than John had, but then he did not know quite so well the meaning of the deep silence that had fallen upon them all<>. Dora!. Dora!. called the distracted father, when there ran into his arms what he had supposed was an Indian girl<>. Papa, papa!. and Bennie, too<>. Oh, how glad I am!. I don’t know how it all happened, but we are together now<>. Shoshone made a motion to Goldberg to take them away, and, leading Dora by one hand and Bennie by the other, they started to the tent<>. Helen sank down to the box, incapable of movement<>. She knew what the sudden silence meant and saw Dan take his lariat<>. She covered her face with her hands and sat there for what she thought a year<>. Then she felt her hand taken, and looked up to see Shoshone standing there and in his grave face she read the truth<>. Swift justice had been meted out to the murderers for their crimes!. Helen was free; no, not quite free, for she was now held close in Shoshone’s arms<>. THE END<>. \n"
     ]
    }
   ],
   "source": [
    "print(len(novel))\n",
    "print(novel[:1000])\n",
    "print(novel[-1000:])"
   ]
  },
  {
   "cell_type": "markdown",
   "metadata": {
    "id": "1hq27fGC_F7b"
   },
   "source": [
    "####2. Movies"
   ]
  },
  {
   "cell_type": "code",
   "execution_count": null,
   "metadata": {
    "colab": {
     "base_uri": "https://localhost:8080/"
    },
    "id": "v8wW14x-_I-k",
    "outputId": "b56c319d-a60c-4b79-bb75-2c94d2a3bf08"
   },
   "outputs": [
    {
     "name": "stdout",
     "output_type": "stream",
     "text": [
      "L1045 +++$+++ u0 +++$+++ m0 +++$+++ BIANCA +++$+++ They do not!\n",
      "\n",
      "L1044 +++$+++ u2 +++$+++ m0 +++$+++ CAMERON +++$+++ They do to!\n",
      "\n",
      "L985 +++$+++ u0 +++$+++ m0 +++$+++ BIANCA +++$+++ I hope so.\n",
      "\n",
      "L984 +++$+++ u2 +++$+++ m0 +++$+++ CAMERON +++$+++ She okay?\n",
      "\n",
      "L925 +++$+++ u0 +++$+++ m0 +++$+++ BIANCA +++$+++ Let's go.\n",
      "\n",
      "L924 +++$+++ u2 +++$+++ m0 +++$+++ CAMERON +++$+++ Wow\n",
      "\n",
      "L872 +++$+++ u0 +++$+++ m0 +++$+++ BIANCA +++$+++ Okay -- you're gonna need to learn how to lie.\n",
      "\n",
      "L871 +++$+++ u2 +++$+++ m0 +++$+++ CAMERON +++$+++ No\n",
      "\n",
      "L870 +++$+++ u0 +++$+++ m0 +++$+++ BIANCA +++$+++ I'm kidding.  You know how sometimes you just become this \"persona\"?  And you don't know how to quit?\n",
      "\n"
     ]
    }
   ],
   "source": [
    "movie_file = open(dirPath+'/gdrive/My Drive/casestudy/movie_lines.txt', 'r', errors='ignore')\n",
    "i = 0\n",
    "for f in movie_file:\n",
    "  i=i+1\n",
    "  if(i<10):\n",
    "    print(f)    \n",
    "movie_file.close()"
   ]
  },
  {
   "cell_type": "markdown",
   "metadata": {
    "id": "LeYbu_x-3Jbr"
   },
   "source": [
    "We need to remove the long prefix string preceding the actual dialogue."
   ]
  },
  {
   "cell_type": "code",
   "execution_count": null,
   "metadata": {
    "colab": {
     "base_uri": "https://localhost:8080/"
    },
    "id": "SKEale7V3ZJ5",
    "outputId": "f569cd74-057e-486a-9f2b-0681b3a101fc"
   },
   "outputs": [
    {
     "name": "stdout",
     "output_type": "stream",
     "text": [
      "{'-', '%', ':', '}', '!', '&', '+', '[', '=', '<', '{', ')', '#', '_', '*', '/', '?', '.', \"'\", ';', '>', '\"', ']', '~', ',', '|', '^', '$', '`'}\n"
     ]
    }
   ],
   "source": [
    "movie_file = open(dirPath+'/gdrive/My Drive/casestudy/movie_lines.txt', 'r', errors='ignore')\n",
    "lt = []\n",
    "for f in movie_file:\n",
    "  lt.extend(re.findall('[^a-zA-Z0-9\\s]',str(f)))\n",
    "movie_file.close()\n",
    "print((set(lt)))"
   ]
  },
  {
   "cell_type": "markdown",
   "metadata": {
    "id": "8kluq74t4H3V"
   },
   "source": [
    "The above are the special characters found in the corpus text. We will evaluate each of them and remove/replace the unnecesary ones."
   ]
  },
  {
   "cell_type": "code",
   "execution_count": null,
   "metadata": {
    "id": "_G28waA0rWwD"
   },
   "outputs": [],
   "source": [
    "def removeHtml(text):\n",
    "    soup = BeautifulSoup(text, 'html.parser')\n",
    "    cleanText = soup.get_text()\n",
    "    return cleanText"
   ]
  },
  {
   "cell_type": "code",
   "execution_count": null,
   "metadata": {
    "colab": {
     "base_uri": "https://localhost:8080/"
    },
    "id": "2RNVCaq2DfBY",
    "outputId": "5f1efbd0-7f13-4967-f83b-963f6b12a244"
   },
   "outputs": [
    {
     "name": "stdout",
     "output_type": "stream",
     "text": [
      "304713\n"
     ]
    }
   ],
   "source": [
    "movie_file = open(dirPath+'/gdrive/My Drive/casestudy/movie_lines.txt', 'r', errors='ignore')\n",
    "flist = list()\n",
    "for f in movie_file:\n",
    "  f = str(f)\n",
    "  f = re.sub('L.*\\$\\+\\+\\+ ','',f) # Remove Prefix\n",
    "  f = re.sub(r'b\\\"|b\\'','',f) \n",
    "  f = re.sub(r'\\n','',f) # Remove new line\n",
    "  f = re.sub('\\\\r|\\\\n|\\\\t|\\\\r\\\\n', ' ',f)\n",
    "  f = f.replace('[Beat]', ' ') # [Beat] is mentioned many times in the corpus - not a dialogue line -not useful\n",
    "  f = removeHtml(f)\n",
    "  f = re.sub(r'\\“|\\”|\\\"','',f)\n",
    "  f = re.sub(r'--','-',f)\n",
    "  f = re.sub(r'[#\\)\\*\\+\\^\\]\\[_\\{\\}|~<>]','',f) # Remove irrelavent spl. characters\n",
    "  f = re.sub(r'[-=]',' ',f)\n",
    "  f = re.sub(r'Mrs\\.','Mrs ',f) # Remove fullstops from personal titles\n",
    "  f = re.sub(r'Mr\\.','Mr ',f)\n",
    "  f = re.sub(r'Ms\\.','Ms ',f)\n",
    "  f = re.sub(r'Dr\\.','Dr ',f)\n",
    "  f = re.sub(r'\\.\\.+', '.', f) # replace multiple dots with single .\n",
    "  f = re.sub(r'\\\\','',f)\n",
    "  f = re.sub(' +', ' ', f) # Remove extra spaces\n",
    "  # We will split the text with '.', '?', '!'. We will also retain the above 3 punctuations.\n",
    "  f = re.sub(r'\\.', '<>.', f)  \n",
    "  f = re.sub(r'\\?', '?.', f) \n",
    "  f = re.sub(r'\\!', '!.', f)\n",
    "  flist.append(f)\n",
    "movie_file.close()\n",
    "print(len(flist))"
   ]
  },
  {
   "cell_type": "markdown",
   "metadata": {
    "id": "F7a1C2qH9ZRz"
   },
   "source": [
    "### Data Preparation"
   ]
  },
  {
   "cell_type": "markdown",
   "metadata": {
    "id": "4NdLFWWo9d5y"
   },
   "source": [
    "We will now split the above processed data to sentences."
   ]
  },
  {
   "cell_type": "code",
   "execution_count": null,
   "metadata": {
    "colab": {
     "base_uri": "https://localhost:8080/"
    },
    "id": "Puc684ndj1-P",
    "outputId": "38867a33-e23b-4585-8c8f-c4d57547ca25"
   },
   "outputs": [
    {
     "data": {
      "text/plain": [
       "3386"
      ]
     },
     "execution_count": 19,
     "metadata": {},
     "output_type": "execute_result"
    }
   ],
   "source": [
    "novel_text = []\n",
    "novel_text.extend(novel.split('.'))\n",
    "# Put the full stop back.\n",
    "for i in range(len(novel_text)):\n",
    "  novel_text[i] = novel_text[i].replace('<>','.').strip()\n",
    "novel_text = list(set(novel_text))\n",
    "len(novel_text)"
   ]
  },
  {
   "cell_type": "markdown",
   "metadata": {
    "id": "rX8tepZsa65c"
   },
   "source": [
    "We will split the preprocessed text from movie corpus to sentences."
   ]
  },
  {
   "cell_type": "code",
   "execution_count": null,
   "metadata": {
    "colab": {
     "base_uri": "https://localhost:8080/"
    },
    "id": "lQdIZEhw9a70",
    "outputId": "6d39325b-0d99-4a7f-bc47-a9169a10a7ce"
   },
   "outputs": [
    {
     "data": {
      "text/plain": [
       "418087"
      ]
     },
     "execution_count": 20,
     "metadata": {},
     "output_type": "execute_result"
    }
   ],
   "source": [
    "movie_diag = []\n",
    "for l in flist:\n",
    "  movie_diag.extend(l.split('.'))\n",
    "# Put the full stop back.\n",
    "for i in range(len(movie_diag)):\n",
    "  movie_diag[i] = movie_diag[i].replace('<>','.').strip()\n",
    "movie_diag = list(set(movie_diag))\n",
    "len(movie_diag)"
   ]
  },
  {
   "cell_type": "code",
   "execution_count": null,
   "metadata": {
    "colab": {
     "base_uri": "https://localhost:8080/"
    },
    "id": "GqiBCXMBz-8L",
    "outputId": "4ac8754c-889d-499a-9f3a-ec54ae1bd52e"
   },
   "outputs": [
    {
     "data": {
      "text/plain": [
       "421473"
      ]
     },
     "execution_count": 21,
     "metadata": {},
     "output_type": "execute_result"
    }
   ],
   "source": [
    "# Combine the two text corpuses.\n",
    "movie_diag.extend(novel_text)\n",
    "len(movie_diag)"
   ]
  },
  {
   "cell_type": "markdown",
   "metadata": {
    "id": "hiF0K4Yk4o4j"
   },
   "source": [
    "Word Count Thresholds"
   ]
  },
  {
   "cell_type": "code",
   "execution_count": null,
   "metadata": {
    "id": "zRMLFn9s20Lw"
   },
   "outputs": [],
   "source": [
    "lenlist = [len(l.split()) for l in movie_diag]"
   ]
  },
  {
   "cell_type": "code",
   "execution_count": null,
   "metadata": {
    "colab": {
     "base_uri": "https://localhost:8080/"
    },
    "id": "M5CGk4DE3Rh1",
    "outputId": "2005a064-3d90-4844-c6cf-5fb0c18abea2"
   },
   "outputs": [
    {
     "name": "stdout",
     "output_type": "stream",
     "text": [
      "Max word count: 156\n",
      "Min word count: 0\n",
      "Avg word count: 7.0\n"
     ]
    }
   ],
   "source": [
    "print('Max word count:',max(lenlist))\n",
    "print('Min word count:',min(lenlist))\n",
    "print('Avg word count:',np.round(np.mean(lenlist)))"
   ]
  },
  {
   "cell_type": "code",
   "execution_count": null,
   "metadata": {
    "colab": {
     "base_uri": "https://localhost:8080/",
     "height": 497
    },
    "id": "Lx6CdqOA4zRU",
    "outputId": "d38c38d4-a240-4a28-d1fc-28c26d92e4c4"
   },
   "outputs": [
    {
     "data": {
      "image/png": "[encoded data removed]",
      "text/plain": [
       "<Figure size 720x576 with 1 Axes>"
      ]
     },
     "metadata": {
      "needs_background": "light"
     },
     "output_type": "display_data"
    }
   ],
   "source": [
    "plt.subplots(figsize=(10,8))\n",
    "sns.violinplot(lenlist,color='lightgreen')\n",
    "plt.xlabel('Word Count')\n",
    "plt.show()"
   ]
  },
  {
   "cell_type": "markdown",
   "metadata": {
    "id": "hmS0ioLc5We9"
   },
   "source": [
    "We see the median word count is around 6 words per sentence.\n",
    "There are considerable number of outliers after a word count of 20. The maximum word count concentration is around 7 words per sentence."
   ]
  },
  {
   "cell_type": "markdown",
   "metadata": {
    "id": "EcXBN-il7Uz0"
   },
   "source": [
    "To keep sentences short and meaningful, we will use sentences with number of words ranging from 5 to 20."
   ]
  },
  {
   "cell_type": "code",
   "execution_count": null,
   "metadata": {
    "colab": {
     "base_uri": "https://localhost:8080/"
    },
    "id": "Lpq1pXJg0aJW",
    "outputId": "5f683ed1-15b7-4edb-c729-ad0d620ee8ee"
   },
   "outputs": [
    {
     "name": "stdout",
     "output_type": "stream",
     "text": [
      "319978\n",
      "[\"I'll be right back.\", 'Your teeth are fine.', \"Thanks, Bobby, 'bout done.\", \"We'll leave it for now.\", \"Now I'm going to have it mounted and have my girlfriends over to throw darts at it.\", 'You always see geese.', 'I came here and I made Mr Kane come with me.', 'Was the Baron joking, or is it really true that the Baron is in financial straits.', \"If you won't sleep with me this time\", 'Got that desert yet.']\n",
      "['She must be silenced forever!', 'What are you doing?', 'In this way the cave people came at last to grind grain for bread.', 'It wouldn’t be noticed if he was to get a stray bullet in his gizzard now.', 'And see how many branches, and even great trees, are floating down on it.', 'I know I’m right.', 'The water never comes into my cave, said Flame.', 'How am I to get there?', 'You cannot vear dot now, mein child.', 'I’ll carry one over.']\n"
     ]
    }
   ],
   "source": [
    "inpLst = [l for l in movie_diag if len(l.split())>3 and len(l.split())<20]\n",
    "print(len(inpLst))\n",
    "print(inpLst[:10])\n",
    "print(inpLst[-10:])"
   ]
  },
  {
   "cell_type": "markdown",
   "metadata": {
    "id": "goBkGTS175nB"
   },
   "source": [
    "We have preprocessed and split the text corpus into input sentences."
   ]
  },
  {
   "cell_type": "code",
   "execution_count": null,
   "metadata": {
    "id": "kpcfA1kxIzyi"
   },
   "outputs": [],
   "source": [
    "for i in range(len(inpLst)):\n",
    "  inpLst[i] = re.sub(r\"[^A-Za-z0-9\\'\\s]\",\"\", inpLst[i]) # Remove special characters except '\n",
    "  inpLst[i] = inpLst[i].lower() # Convert to lower."
   ]
  },
  {
   "cell_type": "markdown",
   "metadata": {
    "id": "JYKWPLO8-sea"
   },
   "source": [
    "### Introduce Random Perturbations"
   ]
  },
  {
   "cell_type": "markdown",
   "metadata": {
    "id": "Ug3UjbG8tFj2"
   },
   "source": [
    "We will introduce the following grammatical errors in the grammatically correct conversational english sentences.\n",
    "\n",
    "**Phonetically similar words:**\n",
    "\n",
    "1. Replace 'there' with 'their'\n",
    "2. Replace 'then' with 'than'\n",
    "3. Replace 'their' with 'there'\n",
    "4. Replace 'than' with 'then'\n",
    "\n",
    "**Indefinite Articles**\n",
    "\n",
    "5. Remove 'a'\n",
    "6. 50% random: replace 'a' with 'an'.\n",
    "7. Remove 'an'\n",
    "8. 50% random: replace 'an' with 'a'.\n",
    "\n",
    "**Verb Contractions**\n",
    "\n",
    "9. Remove: 've\n",
    "10. Remove: 're\n",
    "11. Remove: 'll\n",
    "12. Remove: 's\n",
    "\n",
    "**Definite Article**\n",
    "\n",
    "13. Remove 'the'\n",
    "\n",
    "**Auxiliary Verbs**\n",
    "\n",
    "14. Replace 'is' with 'are'\n",
    "15. Replace 'were' with 'was'\n",
    "16. Replace 'are' with 'is'\n",
    "\n",
    "**Common Grammatical Mistakes**\n",
    "\n",
    "17. Replace 'didn't have' with 'didn't had'"
   ]
  },
  {
   "cell_type": "code",
   "execution_count": null,
   "metadata": {
    "id": "AJ_seedLKs-Y"
   },
   "outputs": [],
   "source": [
    "def pertuber(r,text):\n",
    "  '''\n",
    "  Introduce grammatical errors\n",
    "  '''\n",
    "  correct_text = []\n",
    "  pertubed_text = []\n",
    "\n",
    "  if ' there ' in text:\n",
    "    correct_text.append(text)\n",
    "    pertubed_text.append(re.sub(r'\\bthere\\b','their',text))\n",
    "  if ' then ' in text:\n",
    "    correct_text.append(text)\n",
    "    pertubed_text.append(re.sub(r'\\bthen\\b','than',text))\n",
    "  if ' their ' in text:\n",
    "    correct_text.append(text)\n",
    "    pertubed_text.append(re.sub(r'\\btheir\\b','there',text))    \n",
    "  if ' than ' in text:\n",
    "    correct_text.append(text)\n",
    "    pertubed_text.append(re.sub(r'\\bthan\\b','then',text))    \n",
    "\n",
    "  if ' a ' in text:\n",
    "    correct_text.append(text)\n",
    "    pertubed_text.append(re.sub(r'\\ba\\b','',text).replace('  ',' '))      \n",
    "    if(r%2==0):\n",
    "      correct_text.append(text)\n",
    "      pertubed_text.append(re.sub(r'\\ba\\b','an',text))\n",
    "\n",
    "  if ' an ' in text:\n",
    "    correct_text.append(text)\n",
    "    pertubed_text.append(re.sub(r'\\ban\\b','',text).replace('  ',' '))      \n",
    "    if(r%2==0): #50% chance\n",
    "      correct_text.append(text)\n",
    "      pertubed_text.append(re.sub(r'\\ban\\b','a',text))\n",
    "\n",
    "  if(re.findall(r'\\'ve',text)):\n",
    "    correct_text.append(text)\n",
    "    pertubed_text.append(re.sub(r'\\'ve','',text))\n",
    "\n",
    "  if(re.findall(r'\\'re',text)):\n",
    "    correct_text.append(text)\n",
    "    pertubed_text.append(re.sub(r'\\'re','',text))    \n",
    "\n",
    "  if(re.findall(r'\\'ll',text)):\n",
    "    correct_text.append(text)\n",
    "    pertubed_text.append(re.sub(r'\\'ll','',text))\n",
    "\n",
    "  if(re.findall(r'\\'s',text)):\n",
    "    correct_text.append(text)\n",
    "    pertubed_text.append(re.sub(r'\\'s','',text))   \n",
    "\n",
    "  if(re.findall(r'\\'m',text)):\n",
    "    correct_text.append(text)\n",
    "    pertubed_text.append(re.sub(r'\\'m','',text))       \n",
    "\n",
    "  if ' the ' in text:\n",
    "    correct_text.append(text)\n",
    "    pertubed_text.append(re.sub(r'\\bthe\\b','',text).replace('  ',' '))  \n",
    "\n",
    "  if ' didn\\'t have ' in text:\n",
    "    correct_text.append(text)\n",
    "    pertubed_text.append(re.sub(r'\\bdidn\\'t have\\b','didn\\'t had',text)) \n",
    "\n",
    "  if ' is ' in text:\n",
    "    correct_text.append(text)\n",
    "    pertubed_text.append(re.sub(r'\\bis\\b','are',text))\n",
    "  if ' were ' in text: \n",
    "    correct_text.append(text)\n",
    "    pertubed_text.append(re.sub(r'\\bwere\\b','was',text))\n",
    "\n",
    "  if ' are ' in text: \n",
    "    correct_text.append(text)\n",
    "    pertubed_text.append(re.sub(r'\\bare\\b','is',text))\n",
    "\n",
    "  return correct_text, pertubed_text"
   ]
  },
  {
   "cell_type": "code",
   "execution_count": null,
   "metadata": {
    "id": "xM4s0xyUtBQF"
   },
   "outputs": [],
   "source": [
    "input = list()\n",
    "output = list()\n",
    "for i in range(len(inpLst)):\n",
    "  r = np.random.randint(1,5) # 25% chance.\n",
    "  correct_text, pertubed_text = pertuber(r,inpLst[i])\n",
    "  output.extend(correct_text) # Expected correct text - to predict.\n",
    "  input.extend(pertubed_text) # Perturbed incorrect text - input."
   ]
  },
  {
   "cell_type": "code",
   "execution_count": null,
   "metadata": {
    "colab": {
     "base_uri": "https://localhost:8080/"
    },
    "id": "uiLECd9taUWC",
    "outputId": "73dabc38-f0b1-4b8d-ec66-9d46d8257d87"
   },
   "outputs": [
    {
     "name": "stdout",
     "output_type": "stream",
     "text": [
      "319978\n",
      "287023\n",
      "287023\n"
     ]
    }
   ],
   "source": [
    "print(len(inpLst))\n",
    "print(len(input))\n",
    "print(len(output))"
   ]
  },
  {
   "cell_type": "code",
   "execution_count": null,
   "metadata": {
    "colab": {
     "base_uri": "https://localhost:8080/"
    },
    "id": "GfxewsbPlNEg",
    "outputId": "bc03c267-7c20-43c6-88b9-f4354c25466b"
   },
   "outputs": [
    {
     "name": "stdout",
     "output_type": "stream",
     "text": [
      "\n",
      "Correct: i'll suck your eyes out\n",
      "Incorrect: i suck your eyes out\n",
      "\n",
      "Correct: you're a smart man\n",
      "Incorrect: you're smart man\n",
      "\n",
      "Correct: you're a smart man\n",
      "Incorrect: you a smart man\n",
      "\n",
      "Correct: i'm here you're here the piano's here\n",
      "Incorrect: i'm here you here the piano's here\n"
     ]
    }
   ],
   "source": [
    "for i in range(50,54):\n",
    "    print(\"\\nCorrect: \"+output[i])\n",
    "    print(\"Incorrect: \"+input[i])  "
   ]
  },
  {
   "cell_type": "code",
   "execution_count": null,
   "metadata": {
    "id": "qkuchcXWzvgL"
   },
   "outputs": [],
   "source": [
    "df = pd.DataFrame({'ePerturb_Input':input,'dCorrect':output})"
   ]
  },
  {
   "cell_type": "code",
   "execution_count": null,
   "metadata": {
    "colab": {
     "base_uri": "https://localhost:8080/",
     "height": 424
    },
    "id": "Yf1MjB-doFc1",
    "outputId": "1b364e7e-31bf-46eb-b54a-a9e9d49a0a44"
   },
   "outputs": [
    {
     "data": {
      "text/html": [
       "\n",
       "  <div id=\"df-2e0e1fd9-3c83-4c35-94b6-994692e70390\">\n",
       "    <div class=\"colab-df-container\">\n",
       "      <div>\n",
       "<style scoped>\n",
       "    .dataframe tbody tr th:only-of-type {\n",
       "        vertical-align: middle;\n",
       "    }\n",
       "\n",
       "    .dataframe tbody tr th {\n",
       "        vertical-align: top;\n",
       "    }\n",
       "\n",
       "    .dataframe thead th {\n",
       "        text-align: right;\n",
       "    }\n",
       "</style>\n",
       "<table border=\"1\" class=\"dataframe\">\n",
       "  <thead>\n",
       "    <tr style=\"text-align: right;\">\n",
       "      <th></th>\n",
       "      <th>ePerturb_Input</th>\n",
       "      <th>dCorrect</th>\n",
       "    </tr>\n",
       "  </thead>\n",
       "  <tbody>\n",
       "    <tr>\n",
       "      <th>0</th>\n",
       "      <td>i be right back</td>\n",
       "      <td>i'll be right back</td>\n",
       "    </tr>\n",
       "    <tr>\n",
       "      <th>1</th>\n",
       "      <td>your teeth is fine</td>\n",
       "      <td>your teeth are fine</td>\n",
       "    </tr>\n",
       "    <tr>\n",
       "      <th>2</th>\n",
       "      <td>we leave it for now</td>\n",
       "      <td>we'll leave it for now</td>\n",
       "    </tr>\n",
       "    <tr>\n",
       "      <th>3</th>\n",
       "      <td>now i going to have it mounted and have my gir...</td>\n",
       "      <td>now i'm going to have it mounted and have my g...</td>\n",
       "    </tr>\n",
       "    <tr>\n",
       "      <th>4</th>\n",
       "      <td>was baron joking or is it really true that bar...</td>\n",
       "      <td>was the baron joking or is it really true that...</td>\n",
       "    </tr>\n",
       "    <tr>\n",
       "      <th>...</th>\n",
       "      <td>...</td>\n",
       "      <td>...</td>\n",
       "    </tr>\n",
       "    <tr>\n",
       "      <th>287018</th>\n",
       "      <td>you see me well and strong quite a different b...</td>\n",
       "      <td>you see me well and strong quite a different b...</td>\n",
       "    </tr>\n",
       "    <tr>\n",
       "      <th>287019</th>\n",
       "      <td>what is you doing</td>\n",
       "      <td>what are you doing</td>\n",
       "    </tr>\n",
       "    <tr>\n",
       "      <th>287020</th>\n",
       "      <td>in this way cave people came at last to grind ...</td>\n",
       "      <td>in this way the cave people came at last to gr...</td>\n",
       "    </tr>\n",
       "    <tr>\n",
       "      <th>287021</th>\n",
       "      <td>it wouldnt be noticed if he was to get stray b...</td>\n",
       "      <td>it wouldnt be noticed if he was to get a stray...</td>\n",
       "    </tr>\n",
       "    <tr>\n",
       "      <th>287022</th>\n",
       "      <td>and see how many branches and even great trees...</td>\n",
       "      <td>and see how many branches and even great trees...</td>\n",
       "    </tr>\n",
       "  </tbody>\n",
       "</table>\n",
       "<p>287023 rows × 2 columns</p>\n",
       "</div>\n",
       "      <button class=\"colab-df-convert\" onclick=\"convertToInteractive('df-2e0e1fd9-3c83-4c35-94b6-994692e70390')\"\n",
       "              title=\"Convert this dataframe to an interactive table.\"\n",
       "              style=\"display:none;\">\n",
       "        \n",
       "  <svg xmlns=\"http://www.w3.org/2000/svg\" height=\"24px\"viewBox=\"0 0 24 24\"\n",
       "       width=\"24px\">\n",
       "    <path d=\"M0 0h24v24H0V0z\" fill=\"none\"/>\n",
       "    <path d=\"M18.56 5.44l.94 2.06.94-2.06 2.06-.94-2.06-.94-.94-2.06-.94 2.06-2.06.94zm-11 1L8.5 8.5l.94-2.06 2.06-.94-2.06-.94L8.5 2.5l-.94 2.06-2.06.94zm10 10l.94 2.06.94-2.06 2.06-.94-2.06-.94-.94-2.06-.94 2.06-2.06.94z\"/><path d=\"M17.41 7.96l-1.37-1.37c-.4-.4-.92-.59-1.43-.59-.52 0-1.04.2-1.43.59L10.3 9.45l-7.72 7.72c-.78.78-.78 2.05 0 2.83L4 21.41c.39.39.9.59 1.41.59.51 0 1.02-.2 1.41-.59l7.78-7.78 2.81-2.81c.8-.78.8-2.07 0-2.86zM5.41 20L4 18.59l7.72-7.72 1.47 1.35L5.41 20z\"/>\n",
       "  </svg>\n",
       "      </button>\n",
       "      \n",
       "  <style>\n",
       "    .colab-df-container {\n",
       "      display:flex;\n",
       "      flex-wrap:wrap;\n",
       "      gap: 12px;\n",
       "    }\n",
       "\n",
       "    .colab-df-convert {\n",
       "      background-color: #E8F0FE;\n",
       "      border: none;\n",
       "      border-radius: 50%;\n",
       "      cursor: pointer;\n",
       "      display: none;\n",
       "      fill: #1967D2;\n",
       "      height: 32px;\n",
       "      padding: 0 0 0 0;\n",
       "      width: 32px;\n",
       "    }\n",
       "\n",
       "    .colab-df-convert:hover {\n",
       "      background-color: #E2EBFA;\n",
       "      box-shadow: 0px 1px 2px rgba(60, 64, 67, 0.3), 0px 1px 3px 1px rgba(60, 64, 67, 0.15);\n",
       "      fill: #174EA6;\n",
       "    }\n",
       "\n",
       "    [theme=dark] .colab-df-convert {\n",
       "      background-color: #3B4455;\n",
       "      fill: #D2E3FC;\n",
       "    }\n",
       "\n",
       "    [theme=dark] .colab-df-convert:hover {\n",
       "      background-color: #434B5C;\n",
       "      box-shadow: 0px 1px 3px 1px rgba(0, 0, 0, 0.15);\n",
       "      filter: drop-shadow(0px 1px 2px rgba(0, 0, 0, 0.3));\n",
       "      fill: #FFFFFF;\n",
       "    }\n",
       "  </style>\n",
       "\n",
       "      <script>\n",
       "        const buttonEl =\n",
       "          document.querySelector('#df-2e0e1fd9-3c83-4c35-94b6-994692e70390 button.colab-df-convert');\n",
       "        buttonEl.style.display =\n",
       "          google.colab.kernel.accessAllowed ? 'block' : 'none';\n",
       "\n",
       "        async function convertToInteractive(key) {\n",
       "          const element = document.querySelector('#df-2e0e1fd9-3c83-4c35-94b6-994692e70390');\n",
       "          const dataTable =\n",
       "            await google.colab.kernel.invokeFunction('convertToInteractive',\n",
       "                                                     [key], {});\n",
       "          if (!dataTable) return;\n",
       "\n",
       "          const docLinkHtml = 'Like what you see? Visit the ' +\n",
       "            '<a target=\"_blank\" href=https://colab.research.google.com/notebooks/data_table.ipynb>data table notebook</a>'\n",
       "            + ' to learn more about interactive tables.';\n",
       "          element.innerHTML = '';\n",
       "          dataTable['output_type'] = 'display_data';\n",
       "          await google.colab.output.renderOutput(dataTable, element);\n",
       "          const docLink = document.createElement('div');\n",
       "          docLink.innerHTML = docLinkHtml;\n",
       "          element.appendChild(docLink);\n",
       "        }\n",
       "      </script>\n",
       "    </div>\n",
       "  </div>\n",
       "  "
      ],
      "text/plain": [
       "                                           ePerturb_Input  \\\n",
       "0                                         i be right back   \n",
       "1                                      your teeth is fine   \n",
       "2                                     we leave it for now   \n",
       "3       now i going to have it mounted and have my gir...   \n",
       "4       was baron joking or is it really true that bar...   \n",
       "...                                                   ...   \n",
       "287018  you see me well and strong quite a different b...   \n",
       "287019                                  what is you doing   \n",
       "287020  in this way cave people came at last to grind ...   \n",
       "287021  it wouldnt be noticed if he was to get stray b...   \n",
       "287022  and see how many branches and even great trees...   \n",
       "\n",
       "                                                 dCorrect  \n",
       "0                                      i'll be right back  \n",
       "1                                     your teeth are fine  \n",
       "2                                  we'll leave it for now  \n",
       "3       now i'm going to have it mounted and have my g...  \n",
       "4       was the baron joking or is it really true that...  \n",
       "...                                                   ...  \n",
       "287018  you see me well and strong quite a different b...  \n",
       "287019                                 what are you doing  \n",
       "287020  in this way the cave people came at last to gr...  \n",
       "287021  it wouldnt be noticed if he was to get a stray...  \n",
       "287022  and see how many branches and even great trees...  \n",
       "\n",
       "[287023 rows x 2 columns]"
      ]
     },
     "execution_count": 48,
     "metadata": {},
     "output_type": "execute_result"
    }
   ],
   "source": [
    "df"
   ]
  },
  {
   "cell_type": "code",
   "execution_count": null,
   "metadata": {
    "id": "byjjIOqk0RcD"
   },
   "outputs": [],
   "source": [
    "# Add <start> and <end> tags to signal the start and end of sequences.\n",
    "df['dCorrect_input'] = '<start> '+df['dCorrect'].astype(str)\n",
    "df['dCorrect_output'] = df['dCorrect'].astype(str) +' <end>'\n",
    "df.drop(['dCorrect'], axis=1, inplace=True)"
   ]
  },
  {
   "cell_type": "code",
   "execution_count": null,
   "metadata": {
    "colab": {
     "base_uri": "https://localhost:8080/",
     "height": 206
    },
    "id": "ffazNXh2XPzK",
    "outputId": "68a52b4c-403c-4b1b-959f-4cd9fc0d25d3"
   },
   "outputs": [
    {
     "data": {
      "text/html": [
       "\n",
       "  <div id=\"df-f6ddaa25-f3a2-48d2-9aef-8ad1065a0178\">\n",
       "    <div class=\"colab-df-container\">\n",
       "      <div>\n",
       "<style scoped>\n",
       "    .dataframe tbody tr th:only-of-type {\n",
       "        vertical-align: middle;\n",
       "    }\n",
       "\n",
       "    .dataframe tbody tr th {\n",
       "        vertical-align: top;\n",
       "    }\n",
       "\n",
       "    .dataframe thead th {\n",
       "        text-align: right;\n",
       "    }\n",
       "</style>\n",
       "<table border=\"1\" class=\"dataframe\">\n",
       "  <thead>\n",
       "    <tr style=\"text-align: right;\">\n",
       "      <th></th>\n",
       "      <th>ePerturb_Input</th>\n",
       "      <th>dCorrect_input</th>\n",
       "      <th>dCorrect_output</th>\n",
       "    </tr>\n",
       "  </thead>\n",
       "  <tbody>\n",
       "    <tr>\n",
       "      <th>0</th>\n",
       "      <td>i be right back</td>\n",
       "      <td>&lt;start&gt; i'll be right back</td>\n",
       "      <td>i'll be right back &lt;end&gt;</td>\n",
       "    </tr>\n",
       "    <tr>\n",
       "      <th>1</th>\n",
       "      <td>your teeth is fine</td>\n",
       "      <td>&lt;start&gt; your teeth are fine</td>\n",
       "      <td>your teeth are fine &lt;end&gt;</td>\n",
       "    </tr>\n",
       "    <tr>\n",
       "      <th>2</th>\n",
       "      <td>we leave it for now</td>\n",
       "      <td>&lt;start&gt; we'll leave it for now</td>\n",
       "      <td>we'll leave it for now &lt;end&gt;</td>\n",
       "    </tr>\n",
       "    <tr>\n",
       "      <th>3</th>\n",
       "      <td>now i going to have it mounted and have my gir...</td>\n",
       "      <td>&lt;start&gt; now i'm going to have it mounted and h...</td>\n",
       "      <td>now i'm going to have it mounted and have my g...</td>\n",
       "    </tr>\n",
       "    <tr>\n",
       "      <th>4</th>\n",
       "      <td>was baron joking or is it really true that bar...</td>\n",
       "      <td>&lt;start&gt; was the baron joking or is it really t...</td>\n",
       "      <td>was the baron joking or is it really true that...</td>\n",
       "    </tr>\n",
       "  </tbody>\n",
       "</table>\n",
       "</div>\n",
       "      <button class=\"colab-df-convert\" onclick=\"convertToInteractive('df-f6ddaa25-f3a2-48d2-9aef-8ad1065a0178')\"\n",
       "              title=\"Convert this dataframe to an interactive table.\"\n",
       "              style=\"display:none;\">\n",
       "        \n",
       "  <svg xmlns=\"http://www.w3.org/2000/svg\" height=\"24px\"viewBox=\"0 0 24 24\"\n",
       "       width=\"24px\">\n",
       "    <path d=\"M0 0h24v24H0V0z\" fill=\"none\"/>\n",
       "    <path d=\"M18.56 5.44l.94 2.06.94-2.06 2.06-.94-2.06-.94-.94-2.06-.94 2.06-2.06.94zm-11 1L8.5 8.5l.94-2.06 2.06-.94-2.06-.94L8.5 2.5l-.94 2.06-2.06.94zm10 10l.94 2.06.94-2.06 2.06-.94-2.06-.94-.94-2.06-.94 2.06-2.06.94z\"/><path d=\"M17.41 7.96l-1.37-1.37c-.4-.4-.92-.59-1.43-.59-.52 0-1.04.2-1.43.59L10.3 9.45l-7.72 7.72c-.78.78-.78 2.05 0 2.83L4 21.41c.39.39.9.59 1.41.59.51 0 1.02-.2 1.41-.59l7.78-7.78 2.81-2.81c.8-.78.8-2.07 0-2.86zM5.41 20L4 18.59l7.72-7.72 1.47 1.35L5.41 20z\"/>\n",
       "  </svg>\n",
       "      </button>\n",
       "      \n",
       "  <style>\n",
       "    .colab-df-container {\n",
       "      display:flex;\n",
       "      flex-wrap:wrap;\n",
       "      gap: 12px;\n",
       "    }\n",
       "\n",
       "    .colab-df-convert {\n",
       "      background-color: #E8F0FE;\n",
       "      border: none;\n",
       "      border-radius: 50%;\n",
       "      cursor: pointer;\n",
       "      display: none;\n",
       "      fill: #1967D2;\n",
       "      height: 32px;\n",
       "      padding: 0 0 0 0;\n",
       "      width: 32px;\n",
       "    }\n",
       "\n",
       "    .colab-df-convert:hover {\n",
       "      background-color: #E2EBFA;\n",
       "      box-shadow: 0px 1px 2px rgba(60, 64, 67, 0.3), 0px 1px 3px 1px rgba(60, 64, 67, 0.15);\n",
       "      fill: #174EA6;\n",
       "    }\n",
       "\n",
       "    [theme=dark] .colab-df-convert {\n",
       "      background-color: #3B4455;\n",
       "      fill: #D2E3FC;\n",
       "    }\n",
       "\n",
       "    [theme=dark] .colab-df-convert:hover {\n",
       "      background-color: #434B5C;\n",
       "      box-shadow: 0px 1px 3px 1px rgba(0, 0, 0, 0.15);\n",
       "      filter: drop-shadow(0px 1px 2px rgba(0, 0, 0, 0.3));\n",
       "      fill: #FFFFFF;\n",
       "    }\n",
       "  </style>\n",
       "\n",
       "      <script>\n",
       "        const buttonEl =\n",
       "          document.querySelector('#df-f6ddaa25-f3a2-48d2-9aef-8ad1065a0178 button.colab-df-convert');\n",
       "        buttonEl.style.display =\n",
       "          google.colab.kernel.accessAllowed ? 'block' : 'none';\n",
       "\n",
       "        async function convertToInteractive(key) {\n",
       "          const element = document.querySelector('#df-f6ddaa25-f3a2-48d2-9aef-8ad1065a0178');\n",
       "          const dataTable =\n",
       "            await google.colab.kernel.invokeFunction('convertToInteractive',\n",
       "                                                     [key], {});\n",
       "          if (!dataTable) return;\n",
       "\n",
       "          const docLinkHtml = 'Like what you see? Visit the ' +\n",
       "            '<a target=\"_blank\" href=https://colab.research.google.com/notebooks/data_table.ipynb>data table notebook</a>'\n",
       "            + ' to learn more about interactive tables.';\n",
       "          element.innerHTML = '';\n",
       "          dataTable['output_type'] = 'display_data';\n",
       "          await google.colab.output.renderOutput(dataTable, element);\n",
       "          const docLink = document.createElement('div');\n",
       "          docLink.innerHTML = docLinkHtml;\n",
       "          element.appendChild(docLink);\n",
       "        }\n",
       "      </script>\n",
       "    </div>\n",
       "  </div>\n",
       "  "
      ],
      "text/plain": [
       "                                      ePerturb_Input  \\\n",
       "0                                    i be right back   \n",
       "1                                 your teeth is fine   \n",
       "2                                we leave it for now   \n",
       "3  now i going to have it mounted and have my gir...   \n",
       "4  was baron joking or is it really true that bar...   \n",
       "\n",
       "                                      dCorrect_input  \\\n",
       "0                         <start> i'll be right back   \n",
       "1                        <start> your teeth are fine   \n",
       "2                     <start> we'll leave it for now   \n",
       "3  <start> now i'm going to have it mounted and h...   \n",
       "4  <start> was the baron joking or is it really t...   \n",
       "\n",
       "                                     dCorrect_output  \n",
       "0                           i'll be right back <end>  \n",
       "1                          your teeth are fine <end>  \n",
       "2                       we'll leave it for now <end>  \n",
       "3  now i'm going to have it mounted and have my g...  \n",
       "4  was the baron joking or is it really true that...  "
      ]
     },
     "execution_count": 50,
     "metadata": {},
     "output_type": "execute_result"
    }
   ],
   "source": [
    "df.head()"
   ]
  },
  {
   "cell_type": "code",
   "execution_count": null,
   "metadata": {
    "id": "MbcBwLzT02wj"
   },
   "outputs": [],
   "source": [
    "df.to_excel(dirPath+'/gdrive/My Drive/casestudy/deep_text.xlsx',index=False)\n",
    "#df = pd.read_excel(dirPath+'/gdrive/My Drive/casestudy/deep_text.xlsx')"
   ]
  }
 ],
 "metadata": {
  "colab": {
   "collapsed_sections": [
    "1hq27fGC_F7b"
   ],
   "provenance": [
    {
     "file_id": "https://github.com/prapar/Try/blob/main/DeepTextCorrector_NLP.ipynb",
     "timestamp": 1669970278313
    }
   ]
  },
  "gpuClass": "standard",
  "kernelspec": {
   "display_name": "Python 3 (ipykernel)",
   "language": "python",
   "name": "python3"
  },
  "language_info": {
   "codemirror_mode": {
    "name": "ipython",
    "version": 3
   },
   "file_extension": ".py",
   "mimetype": "text/x-python",
   "name": "python",
   "nbconvert_exporter": "python",
   "pygments_lexer": "ipython3",
   "version": "3.9.13"
  }
 },
 "nbformat": 4,
 "nbformat_minor": 1
}
